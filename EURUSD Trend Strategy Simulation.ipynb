{
 "cells": [
  {
   "cell_type": "markdown",
   "id": "e95a1f2d",
   "metadata": {},
   "source": [
    "# Trend Strategy for EURUSD Exchange Rate"
   ]
  },
  {
   "cell_type": "markdown",
   "id": "2305c672",
   "metadata": {},
   "source": [
    "The aim of this notebook is to teach you basic concepts about working with time series data in python. Using the EUR/USD exchange rate as an example, we will create a simple trend-following trading signal and analyse its historical simulated performance.\n",
    "\n",
    "You will then have an opportunity to modify the model's parameters and see how the results change. Does your model perform better or worse?"
   ]
  },
  {
   "cell_type": "markdown",
   "id": "668ab02e",
   "metadata": {},
   "source": [
    "## Imports"
   ]
  },
  {
   "cell_type": "markdown",
   "id": "7eeffc55",
   "metadata": {},
   "source": [
    "We need to import some packages for this analysis. There are over 100,000 packages for Python, most of them free of charge. Some like pandas or numpy are used widely in data analysis."
   ]
  },
  {
   "cell_type": "code",
   "execution_count": 32,
   "id": "1e556655",
   "metadata": {},
   "outputs": [],
   "source": [
    "import pandas as pd  # for working with dataframes\n",
    "import numpy as np # for mathematical functions, arrays and more\n",
    "import matplotlib.pyplot as plt # for visualisations\n",
    "from matplotlib.ticker import PercentFormatter # for formatting cumulative return chart y-axis as percent "
   ]
  },
  {
   "cell_type": "code",
   "execution_count": 33,
   "id": "23887a83",
   "metadata": {},
   "outputs": [],
   "source": [
    "plt.rcParams[\"figure.figsize\"] = (25/2.54,12.5/2.54)  # set default figure size (width,height) in cm"
   ]
  },
  {
   "cell_type": "markdown",
   "id": "e4457515",
   "metadata": {},
   "source": [
    "## Get Exchange Rate Data"
   ]
  },
  {
   "cell_type": "markdown",
   "id": "c89cfcb5",
   "metadata": {},
   "source": [
    "Import EURUSD exchange rate data from file __'EURUSD.csv'__. This has been downloaded from the <a href=\"https://data.ecb.europa.eu/data/data-categories/ecbeurosystem-policy-and-exchange-rates/exchange-rates/reference-rates\">European Central Bank</a>. \n",
    "\n",
    "I already know it contains a column `Date` with dates in yyyymmdd format which I want to use as index and I want Python to __parse__ or recognise dates. If I didn't know that, I would first import the .csv without the additional parameters, look at the head of the dataframe and then go back and edit my import. \n",
    "\n",
    "Alternatively, if the volume of data is large (not the case here) and I didn't want to re-import, indexing and date parsing can also be achieved with separate lines of code after the import."
   ]
  },
  {
   "cell_type": "code",
   "execution_count": 34,
   "id": "af4d6785",
   "metadata": {},
   "outputs": [],
   "source": [
    "df = pd.read_csv('EURUSD.csv',index_col='Date')"
   ]
  },
  {
   "cell_type": "code",
   "execution_count": 35,
   "id": "989d5bf6",
   "metadata": {},
   "outputs": [],
   "source": [
    "df.index = pd.to_datetime(df.index,format='%Y%m%d')"
   ]
  },
  {
   "cell_type": "markdown",
   "id": "6c45fc4a",
   "metadata": {},
   "source": [
    "## Validate Exchange Rate Data"
   ]
  },
  {
   "cell_type": "markdown",
   "id": "8780048a",
   "metadata": {},
   "source": [
    "Let's look at the first two rows of the dataframe."
   ]
  },
  {
   "cell_type": "code",
   "execution_count": 36,
   "id": "27f451d5",
   "metadata": {},
   "outputs": [
    {
     "data": {
      "text/html": [
       "<div>\n",
       "<style scoped>\n",
       "    .dataframe tbody tr th:only-of-type {\n",
       "        vertical-align: middle;\n",
       "    }\n",
       "\n",
       "    .dataframe tbody tr th {\n",
       "        vertical-align: top;\n",
       "    }\n",
       "\n",
       "    .dataframe thead th {\n",
       "        text-align: right;\n",
       "    }\n",
       "</style>\n",
       "<table border=\"1\" class=\"dataframe\">\n",
       "  <thead>\n",
       "    <tr style=\"text-align: right;\">\n",
       "      <th></th>\n",
       "      <th>EURUSD</th>\n",
       "    </tr>\n",
       "    <tr>\n",
       "      <th>Date</th>\n",
       "      <th></th>\n",
       "    </tr>\n",
       "  </thead>\n",
       "  <tbody>\n",
       "    <tr>\n",
       "      <th>1999-01-04</th>\n",
       "      <td>1.1789</td>\n",
       "    </tr>\n",
       "    <tr>\n",
       "      <th>1999-01-05</th>\n",
       "      <td>1.1790</td>\n",
       "    </tr>\n",
       "  </tbody>\n",
       "</table>\n",
       "</div>"
      ],
      "text/plain": [
       "            EURUSD\n",
       "Date              \n",
       "1999-01-04  1.1789\n",
       "1999-01-05  1.1790"
      ]
     },
     "execution_count": 36,
     "metadata": {},
     "output_type": "execute_result"
    }
   ],
   "source": [
    "df.head(2)"
   ]
  },
  {
   "cell_type": "markdown",
   "id": "2f45d2aa",
   "metadata": {},
   "source": [
    "Check if there are missing values."
   ]
  },
  {
   "cell_type": "code",
   "execution_count": 37,
   "id": "b491189b",
   "metadata": {},
   "outputs": [
    {
     "data": {
      "text/plain": [
       "EURUSD    62\n",
       "dtype: int64"
      ]
     },
     "execution_count": 37,
     "metadata": {},
     "output_type": "execute_result"
    }
   ],
   "source": [
    "df.isna().sum()"
   ]
  },
  {
   "cell_type": "markdown",
   "id": "28e2af86",
   "metadata": {},
   "source": [
    "There are several ways of dealing with __erroneous__ or __missing__ values:\n",
    "\n",
    "- __Accept__. If the errors are spikes in data that are not outside the range of possibility, you may choose to accept them, i.e. do nothing;<br><br>\n",
    "- __Reject__. If the errors are outside the range of possibility or values are missing, you can delete the records with missing values. This can be a problem if your dataset is small to start with;<br><br>\n",
    "- __Correct__. If you are able to verify the data at source or re-source the data, you can replace erroneous or missing values. For example, if we had access to the EURUSD exchange rate data from Reuters or Bloomberg, we could use that to fill the gaps;<br><br>\n",
    "- __Replace__ with default values. In case of working with time series, it is common to replace gaps with previous values. Using previous values is preferred here because it doesn't use any forward looking information."
   ]
  },
  {
   "cell_type": "markdown",
   "id": "98ae64d1",
   "metadata": {},
   "source": [
    "Replace missing values with immediately preceding values using the `ffill` (forward fill) paramater. `inplace=True` edits the original dataframe not its copy."
   ]
  },
  {
   "cell_type": "code",
   "execution_count": 38,
   "id": "4fa52ab7",
   "metadata": {},
   "outputs": [],
   "source": [
    "df.fillna(method='ffill',inplace=True)"
   ]
  },
  {
   "cell_type": "markdown",
   "id": "dd4e4f81",
   "metadata": {},
   "source": [
    "If the dataframe contains numerical values, as we expect here, we can analyse data quality using `.describe()`. There appear to be no extreme values in our data:"
   ]
  },
  {
   "cell_type": "code",
   "execution_count": 39,
   "id": "7e3f4143",
   "metadata": {},
   "outputs": [
    {
     "data": {
      "text/html": [
       "<div>\n",
       "<style scoped>\n",
       "    .dataframe tbody tr th:only-of-type {\n",
       "        vertical-align: middle;\n",
       "    }\n",
       "\n",
       "    .dataframe tbody tr th {\n",
       "        vertical-align: top;\n",
       "    }\n",
       "\n",
       "    .dataframe thead th {\n",
       "        text-align: right;\n",
       "    }\n",
       "</style>\n",
       "<table border=\"1\" class=\"dataframe\">\n",
       "  <thead>\n",
       "    <tr style=\"text-align: right;\">\n",
       "      <th></th>\n",
       "      <th>EURUSD</th>\n",
       "    </tr>\n",
       "  </thead>\n",
       "  <tbody>\n",
       "    <tr>\n",
       "      <th>count</th>\n",
       "      <td>6824.000000</td>\n",
       "    </tr>\n",
       "    <tr>\n",
       "      <th>mean</th>\n",
       "      <td>1.182868</td>\n",
       "    </tr>\n",
       "    <tr>\n",
       "      <th>std</th>\n",
       "      <td>0.155372</td>\n",
       "    </tr>\n",
       "    <tr>\n",
       "      <th>min</th>\n",
       "      <td>0.825200</td>\n",
       "    </tr>\n",
       "    <tr>\n",
       "      <th>25%</th>\n",
       "      <td>1.082700</td>\n",
       "    </tr>\n",
       "    <tr>\n",
       "      <th>50%</th>\n",
       "      <td>1.171800</td>\n",
       "    </tr>\n",
       "    <tr>\n",
       "      <th>75%</th>\n",
       "      <td>1.300850</td>\n",
       "    </tr>\n",
       "    <tr>\n",
       "      <th>max</th>\n",
       "      <td>1.599000</td>\n",
       "    </tr>\n",
       "  </tbody>\n",
       "</table>\n",
       "</div>"
      ],
      "text/plain": [
       "            EURUSD\n",
       "count  6824.000000\n",
       "mean      1.182868\n",
       "std       0.155372\n",
       "min       0.825200\n",
       "25%       1.082700\n",
       "50%       1.171800\n",
       "75%       1.300850\n",
       "max       1.599000"
      ]
     },
     "execution_count": 39,
     "metadata": {},
     "output_type": "execute_result"
    }
   ],
   "source": [
    "df.describe()"
   ]
  },
  {
   "cell_type": "markdown",
   "id": "6fffe2ce",
   "metadata": {},
   "source": [
    "If you are working with a relatively small amount of data, then it is also useful to visualise the data. __Line charts__ are the most useful for visualising __time series__. For other types of charts please take a look at <a href=\"https://www.data-to-viz.com/\">From Data to Viz</a>"
   ]
  },
  {
   "cell_type": "code",
   "execution_count": 40,
   "id": "ca6cfe72",
   "metadata": {},
   "outputs": [
    {
     "data": {
      "text/plain": [
       "<AxesSubplot:xlabel='Date'>"
      ]
     },
     "execution_count": 40,
     "metadata": {},
     "output_type": "execute_result"
    },
    {
     "data": {
      "image/png": "[encoded data removed]",
      "text/plain": [
       "<Figure size 708.661x354.331 with 1 Axes>"
      ]
     },
     "metadata": {
      "needs_background": "light"
     },
     "output_type": "display_data"
    }
   ],
   "source": [
    "df['EURUSD'].plot(color=['#255be3'],lw=1)"
   ]
  },
  {
   "cell_type": "markdown",
   "id": "a95a23ab",
   "metadata": {},
   "source": [
    "## Create Trading Signals"
   ]
  },
  {
   "cell_type": "markdown",
   "id": "d68e2a03",
   "metadata": {},
   "source": [
    "### Parameters"
   ]
  },
  {
   "cell_type": "code",
   "execution_count": 41,
   "id": "8f37a2ec",
   "metadata": {},
   "outputs": [],
   "source": [
    "ma = 200 # moving average length in days\n",
    "tcost = 0.015/100 # transaction cost from mid in percent. i.e. 0.015/100 means 0.015% or 1.5bp."
   ]
  },
  {
   "cell_type": "markdown",
   "id": "b5571fbc",
   "metadata": {},
   "source": [
    "### Create Returns"
   ]
  },
  {
   "cell_type": "markdown",
   "id": "9014a157",
   "metadata": {},
   "source": [
    "Create function to define moving average crossover signal:"
   ]
  },
  {
   "cell_type": "code",
   "execution_count": 42,
   "id": "358223e3",
   "metadata": {},
   "outputs": [],
   "source": [
    "def signal(spot,mavg):\n",
    "    if spot > mavg:\n",
    "        s = 1\n",
    "    elif spot < mavg:\n",
    "        s = -1\n",
    "    else:\n",
    "        s = 0\n",
    "    return s"
   ]
  },
  {
   "cell_type": "markdown",
   "id": "722ed7f6",
   "metadata": {},
   "source": [
    "Generate rolling mean of signal source and apply `signal` function to each row of the dataframe (there is <a href=\"https://towardsdatascience.com/apply-function-to-pandas-dataframe-rows-76df74165ee4\">more than one way</a> of doing this).\n",
    "\n",
    "The signal is a quantity of -1 (short EUR and long USD), 1 (long EUR and short USD) or 0 (no position). Using a 200-day moving average cross-over, the signal on 30-May-25 is long EUR because its current value 1.1339 is above the `Mean` of 1.081517, i.e. EUR is trending higher."
   ]
  },
  {
   "cell_type": "code",
   "execution_count": 43,
   "id": "6dfdd482",
   "metadata": {},
   "outputs": [
    {
     "data": {
      "text/html": [
       "<div>\n",
       "<style scoped>\n",
       "    .dataframe tbody tr th:only-of-type {\n",
       "        vertical-align: middle;\n",
       "    }\n",
       "\n",
       "    .dataframe tbody tr th {\n",
       "        vertical-align: top;\n",
       "    }\n",
       "\n",
       "    .dataframe thead th {\n",
       "        text-align: right;\n",
       "    }\n",
       "</style>\n",
       "<table border=\"1\" class=\"dataframe\">\n",
       "  <thead>\n",
       "    <tr style=\"text-align: right;\">\n",
       "      <th></th>\n",
       "      <th>EURUSD</th>\n",
       "      <th>Mean</th>\n",
       "      <th>Signal</th>\n",
       "    </tr>\n",
       "    <tr>\n",
       "      <th>Date</th>\n",
       "      <th></th>\n",
       "      <th></th>\n",
       "      <th></th>\n",
       "    </tr>\n",
       "  </thead>\n",
       "  <tbody>\n",
       "    <tr>\n",
       "      <th>2025-05-26</th>\n",
       "      <td>1.1381</td>\n",
       "      <td>1.080814</td>\n",
       "      <td>1</td>\n",
       "    </tr>\n",
       "    <tr>\n",
       "      <th>2025-05-27</th>\n",
       "      <td>1.1356</td>\n",
       "      <td>1.081029</td>\n",
       "      <td>1</td>\n",
       "    </tr>\n",
       "    <tr>\n",
       "      <th>2025-05-28</th>\n",
       "      <td>1.1317</td>\n",
       "      <td>1.081222</td>\n",
       "      <td>1</td>\n",
       "    </tr>\n",
       "    <tr>\n",
       "      <th>2025-05-29</th>\n",
       "      <td>1.1281</td>\n",
       "      <td>1.081354</td>\n",
       "      <td>1</td>\n",
       "    </tr>\n",
       "    <tr>\n",
       "      <th>2025-05-30</th>\n",
       "      <td>1.1339</td>\n",
       "      <td>1.081517</td>\n",
       "      <td>1</td>\n",
       "    </tr>\n",
       "  </tbody>\n",
       "</table>\n",
       "</div>"
      ],
      "text/plain": [
       "            EURUSD      Mean  Signal\n",
       "Date                                \n",
       "2025-05-26  1.1381  1.080814       1\n",
       "2025-05-27  1.1356  1.081029       1\n",
       "2025-05-28  1.1317  1.081222       1\n",
       "2025-05-29  1.1281  1.081354       1\n",
       "2025-05-30  1.1339  1.081517       1"
      ]
     },
     "execution_count": 43,
     "metadata": {},
     "output_type": "execute_result"
    }
   ],
   "source": [
    "df['Mean'] = df['EURUSD'].rolling(ma).mean()\n",
    "df['Signal'] = df.apply(lambda row: signal(row['EURUSD'], row['Mean']), axis=1)\n",
    "df.tail(5)"
   ]
  },
  {
   "cell_type": "markdown",
   "id": "51abc7a5",
   "metadata": {},
   "source": [
    "Calculate __simulated past spot return__ of the strategy by multiplying T-1 `Signal` and `pct_change()` of `Close` from T-1 to T and subtract costs. Costs are charged on the notional amount you need to trade to change the signal, i.e if the signal switches from -1 to 1, you need to trade 2x notional amount of the strategy, hence the absolute difference. Add return to new column `Return`."
   ]
  },
  {
   "cell_type": "code",
   "execution_count": 44,
   "id": "578723b1",
   "metadata": {},
   "outputs": [
    {
     "data": {
      "text/html": [
       "<div>\n",
       "<style scoped>\n",
       "    .dataframe tbody tr th:only-of-type {\n",
       "        vertical-align: middle;\n",
       "    }\n",
       "\n",
       "    .dataframe tbody tr th {\n",
       "        vertical-align: top;\n",
       "    }\n",
       "\n",
       "    .dataframe thead th {\n",
       "        text-align: right;\n",
       "    }\n",
       "</style>\n",
       "<table border=\"1\" class=\"dataframe\">\n",
       "  <thead>\n",
       "    <tr style=\"text-align: right;\">\n",
       "      <th></th>\n",
       "      <th>EURUSD</th>\n",
       "      <th>Mean</th>\n",
       "      <th>Signal</th>\n",
       "      <th>Return</th>\n",
       "    </tr>\n",
       "    <tr>\n",
       "      <th>Date</th>\n",
       "      <th></th>\n",
       "      <th></th>\n",
       "      <th></th>\n",
       "      <th></th>\n",
       "    </tr>\n",
       "  </thead>\n",
       "  <tbody>\n",
       "    <tr>\n",
       "      <th>2025-05-26</th>\n",
       "      <td>1.1381</td>\n",
       "      <td>1.080814</td>\n",
       "      <td>1</td>\n",
       "      <td>0.007079</td>\n",
       "    </tr>\n",
       "    <tr>\n",
       "      <th>2025-05-27</th>\n",
       "      <td>1.1356</td>\n",
       "      <td>1.081029</td>\n",
       "      <td>1</td>\n",
       "      <td>-0.002197</td>\n",
       "    </tr>\n",
       "    <tr>\n",
       "      <th>2025-05-28</th>\n",
       "      <td>1.1317</td>\n",
       "      <td>1.081222</td>\n",
       "      <td>1</td>\n",
       "      <td>-0.003434</td>\n",
       "    </tr>\n",
       "    <tr>\n",
       "      <th>2025-05-29</th>\n",
       "      <td>1.1281</td>\n",
       "      <td>1.081354</td>\n",
       "      <td>1</td>\n",
       "      <td>-0.003181</td>\n",
       "    </tr>\n",
       "    <tr>\n",
       "      <th>2025-05-30</th>\n",
       "      <td>1.1339</td>\n",
       "      <td>1.081517</td>\n",
       "      <td>1</td>\n",
       "      <td>0.005141</td>\n",
       "    </tr>\n",
       "  </tbody>\n",
       "</table>\n",
       "</div>"
      ],
      "text/plain": [
       "            EURUSD      Mean  Signal    Return\n",
       "Date                                          \n",
       "2025-05-26  1.1381  1.080814       1  0.007079\n",
       "2025-05-27  1.1356  1.081029       1 -0.002197\n",
       "2025-05-28  1.1317  1.081222       1 -0.003434\n",
       "2025-05-29  1.1281  1.081354       1 -0.003181\n",
       "2025-05-30  1.1339  1.081517       1  0.005141"
      ]
     },
     "execution_count": 44,
     "metadata": {},
     "output_type": "execute_result"
    }
   ],
   "source": [
    "df['Return'] = df['Signal'].shift(1) * df['EURUSD'].pct_change() - abs(df['Signal'].diff()) * tcost\n",
    "df.tail(5)"
   ]
  },
  {
   "cell_type": "markdown",
   "id": "2a928fd1",
   "metadata": {},
   "source": [
    "### Analyse Returns"
   ]
  },
  {
   "cell_type": "markdown",
   "id": "c652e948",
   "metadata": {},
   "source": [
    "Plot <font color='red'>cumulative strategy return</font>."
   ]
  },
  {
   "cell_type": "code",
   "execution_count": 45,
   "id": "0eaaa0cf",
   "metadata": {},
   "outputs": [
    {
     "data": {
      "image/png": "[encoded data removed]",
      "text/plain": [
       "<Figure size 708.661x354.331 with 1 Axes>"
      ]
     },
     "metadata": {
      "needs_background": "light"
     },
     "output_type": "display_data"
    }
   ],
   "source": [
    "ax = df['Return'].cumsum().plot(color=['#255be3'],lw=1,title='Cumulative Simulated Past Spot Return, %')\n",
    "plt.xlabel(None)\n",
    "ax.yaxis.set_major_formatter(PercentFormatter(xmax=1,decimals=0))"
   ]
  },
  {
   "cell_type": "markdown",
   "id": "3bfa8a71",
   "metadata": {},
   "source": [
    "Add __rolling drawdown__ to the dataframe. A drawdown is the return an investor would have subsequently experienced by investing in the strategy at the previous high watermark in the cumulative return.\n",
    "\n",
    "This is calculated as the difference between the cumulative return and maximum cumulative return observed to-date. Because our cumulative return is a sum of daily returns without reinvestment (i.e. not a compounded return index), we take a linear rather than percent difference."
   ]
  },
  {
   "cell_type": "code",
   "execution_count": 46,
   "id": "a8f0c18e",
   "metadata": {},
   "outputs": [],
   "source": [
    "df['Drawdown'] = df['Return'].cumsum() - df['Return'].cumsum().expanding(1).max()"
   ]
  },
  {
   "cell_type": "markdown",
   "id": "3c0dd8dd",
   "metadata": {},
   "source": [
    "Plot <font color='red'>rolling drawdown</font>."
   ]
  },
  {
   "cell_type": "code",
   "execution_count": 47,
   "id": "85614496",
   "metadata": {},
   "outputs": [
    {
     "data": {
      "image/png": "[encoded data removed]",
      "text/plain": [
       "<Figure size 708.661x354.331 with 1 Axes>"
      ]
     },
     "metadata": {
      "needs_background": "light"
     },
     "output_type": "display_data"
    }
   ],
   "source": [
    "ax = df['Drawdown'].plot(color=['#255be3'],lw=1,title='Rolling Drawdown, %')\n",
    "plt.xlabel(None)\n",
    "ax.yaxis.set_major_formatter(PercentFormatter(xmax=1,decimals=0))"
   ]
  },
  {
   "cell_type": "markdown",
   "id": "f9ff241d",
   "metadata": {},
   "source": [
    "Calculate <font color='red'>return statistics</font>.\n",
    "\n",
    "Because our returns are zero before the moving average and the signal can be calculated, we want to exclude them from the return calculation to avoid skewing the result."
   ]
  },
  {
   "cell_type": "code",
   "execution_count": 48,
   "id": "e69ca0c8",
   "metadata": {},
   "outputs": [],
   "source": [
    "def return_stats(s):\n",
    "    \n",
    "    a_ret = 260 * df[df.index >= df['Mean'].first_valid_index()][s].mean()\n",
    "    a_vol = np.sqrt(260) * df[df.index >= df['Mean'].first_valid_index()][s].std()\n",
    "    inf_ratio = a_ret / a_vol\n",
    "    max_dd = df['Drawdown'].min()\n",
    "    \n",
    "    print ('Annual Return: %s' % '{:.2%}'.format(a_ret))\n",
    "    print ('Annual StDev: %s' % '{:.2%}'.format(a_vol))\n",
    "    print ('Information Ratio: %s' % '{:.2f}'.format(inf_ratio) if inf_ratio >=0 else 'Information Ratio: n/a')\n",
    "    print ('Max Drawdown: %s' % '{:.2%}'.format(max_dd))"
   ]
  },
  {
   "cell_type": "code",
   "execution_count": 49,
   "id": "3b4c6bdf",
   "metadata": {},
   "outputs": [
    {
     "name": "stdout",
     "output_type": "stream",
     "text": [
      "Annual Return: 2.64%\n",
      "Annual StDev: 9.48%\n",
      "Information Ratio: 0.28\n",
      "Max Drawdown: -34.23%\n"
     ]
    }
   ],
   "source": [
    "return_stats('Return')"
   ]
  },
  {
   "cell_type": "markdown",
   "id": "a44f25a9",
   "metadata": {},
   "source": [
    "You want a strategy with a __positive information ratio__, ideally __around 0.5 or higher__. This means that for each unit of risk, the strategy has generated 0.5 units of return. The maximum drawdown should ideally not be more than a few multiples of the annual return.\n",
    "\n",
    "It is common practice not to show information ratios for strategies that have lost money. Our aim is to analyse how consistently the strategy has generated profits, not losses!"
   ]
  },
  {
   "cell_type": "markdown",
   "id": "0a452ef0",
   "metadata": {},
   "source": [
    "## Next Steps"
   ]
  },
  {
   "cell_type": "markdown",
   "id": "5aaf7a29",
   "metadata": {},
   "source": [
    "The previous exercise shows that creating a profitable trend following trading strategy in EURUSD is a challenge. In order to practice your Python skills, please try the following:\n",
    "\n",
    "1) Play around with the __parameters__ and observe how they change performance.\n",
    " - How do the results change if you change the `ma` and `tcost` parameters? Have shorter moving average lengths produced better or worse historical simulations? Are the simulation results sensitive to the level of assumed transaction costs?\n",
    " - Write a data mining loop that cycles through a range of `ma` parameters and records performance statistics for each parameter. What do you observe?\n",
    " - If you want to challenge yourself, replace the arithmetic average with an exponentially weighted average in the trend signal calculation. Does it give better or worse simulation results?\n",
    " \n",
    "2) Change the `signal` function to trade __mean reversion__ instead of trend. How do the results change?\n",
    "\n",
    "3) Consider sourcing more exchange rate data from the European Central Bank reference rates or any other source and implement the strategy in a __portfolio__ of currency pairs. Do additional currency pairs bring diversification and how do performance statistics on the portfolio level compare to currency level?"
   ]
  },
  {
   "cell_type": "markdown",
   "id": "ddb2036c",
   "metadata": {},
   "source": [
    "I hope you have enjoyed this simple example of how to create a currency trading strategy. For the next __advanced__ level challenges consider implementing the trading strategy in EURUSD forwards or futures instead of spot. A real-life implementation of the signal would also incur the cost or benefit of the interest rate differential between EUR and USD.\n",
    "\n",
    "If you have access to intraday data, consider generating the signal and notional trading at different times of day, allowing for a realistic gap between observing the signal and implementing it. Fixing data published by Bloomberg (BFIX) or Refinitiv (WMR) can be useful for that.\n",
    "\n",
    "If you have access to transaction cost and execution slippage data, consider using variable transaction costs for your applicable strategy notional amount. However, this data is quite hard to come by and you may have to wait until your first job to implement that!"
   ]
  },
  {
   "cell_type": "code",
   "execution_count": null,
   "id": "17833138",
   "metadata": {},
   "outputs": [],
   "source": []
  }
 ],
 "metadata": {
  "kernelspec": {
   "display_name": "Python 3",
   "language": "python",
   "name": "python3"
  },
  "language_info": {
   "codemirror_mode": {
    "name": "ipython",
    "version": 3
   },
   "file_extension": ".py",
   "mimetype": "text/x-python",
   "name": "python",
   "nbconvert_exporter": "python",
   "pygments_lexer": "ipython3",
   "version": "3.8.8"
  }
 },
 "nbformat": 4,
 "nbformat_minor": 5
}
