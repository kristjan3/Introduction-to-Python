{
 "cells": [
  {
   "cell_type": "markdown",
   "id": "e95a1f2d",
   "metadata": {},
   "source": [
    "# Trend Strategy for EURUSD Exchange Rate"
   ]
  },
  {
   "cell_type": "markdown",
   "id": "668ab02e",
   "metadata": {},
   "source": [
    "## Imports"
   ]
  },
  {
   "cell_type": "markdown",
   "id": "7eeffc55",
   "metadata": {},
   "source": [
    "We need to import some packages for this analysis. There are over 100,000 packages for Python, most of them free of charge. Some like pandas or numpy are used widely in data analysis."
   ]
  },
  {
   "cell_type": "code",
   "execution_count": 1,
   "id": "1e556655",
   "metadata": {},
   "outputs": [],
   "source": [
    "import pandas as pd  # for working with dataframes\n",
    "import numpy as np # for mathematical functions, arrays and more\n",
    "import matplotlib.pyplot as plt # for visualisations\n",
    "from matplotlib.ticker import PercentFormatter # for formatting cumulative return chart y-axis as percent "
   ]
  },
  {
   "cell_type": "code",
   "execution_count": 2,
   "id": "23887a83",
   "metadata": {},
   "outputs": [],
   "source": [
    "plt.rcParams[\"figure.figsize\"] = (25/2.54,12.5/2.54)  # set default figure size (width,height) in cm"
   ]
  },
  {
   "cell_type": "markdown",
   "id": "e4457515",
   "metadata": {},
   "source": [
    "## Get Exchange Rate Data"
   ]
  },
  {
   "cell_type": "markdown",
   "id": "c89cfcb5",
   "metadata": {},
   "source": [
    "Import EURUSD exchange rate data from file __'EURUSD=X.csv'__. This has been downloaded from <a href=\"https://uk.finance.yahoo.com/quote/EURUSD%3DX?p=EURUSD%3DX\">Yahoo Finance</a>. \n",
    "\n",
    "I already know it contains a column `Date` which I want to use as index and I want Python to __parse__ or recognise dates. If I didn't know that, I would first import the .csv without the additional parameters, look at the head of the dataframe and then go back and edit my import. \n",
    "\n",
    "Alternatively, if the volume of data is large (not the case here) and I didn't want to re-import, indexing and date parsing can also be achieved with separate lines of code after the import."
   ]
  },
  {
   "cell_type": "code",
   "execution_count": 3,
   "id": "af4d6785",
   "metadata": {},
   "outputs": [],
   "source": [
    "df = pd.read_csv('EURUSD=X.csv',index_col='Date',parse_dates=True)"
   ]
  },
  {
   "cell_type": "markdown",
   "id": "6c45fc4a",
   "metadata": {},
   "source": [
    "## Validate Exchange Rate Data"
   ]
  },
  {
   "cell_type": "markdown",
   "id": "8780048a",
   "metadata": {},
   "source": [
    "Let's look at the first two rows of the dataframe."
   ]
  },
  {
   "cell_type": "code",
   "execution_count": 4,
   "id": "27f451d5",
   "metadata": {},
   "outputs": [
    {
     "data": {
      "text/html": [
       "<div>\n",
       "<style scoped>\n",
       "    .dataframe tbody tr th:only-of-type {\n",
       "        vertical-align: middle;\n",
       "    }\n",
       "\n",
       "    .dataframe tbody tr th {\n",
       "        vertical-align: top;\n",
       "    }\n",
       "\n",
       "    .dataframe thead th {\n",
       "        text-align: right;\n",
       "    }\n",
       "</style>\n",
       "<table border=\"1\" class=\"dataframe\">\n",
       "  <thead>\n",
       "    <tr style=\"text-align: right;\">\n",
       "      <th></th>\n",
       "      <th>Open</th>\n",
       "      <th>High</th>\n",
       "      <th>Low</th>\n",
       "      <th>Close</th>\n",
       "      <th>Adj Close</th>\n",
       "      <th>Volume</th>\n",
       "    </tr>\n",
       "    <tr>\n",
       "      <th>Date</th>\n",
       "      <th></th>\n",
       "      <th></th>\n",
       "      <th></th>\n",
       "      <th></th>\n",
       "      <th></th>\n",
       "      <th></th>\n",
       "    </tr>\n",
       "  </thead>\n",
       "  <tbody>\n",
       "    <tr>\n",
       "      <th>2003-12-01</th>\n",
       "      <td>1.203398</td>\n",
       "      <td>1.204007</td>\n",
       "      <td>1.194401</td>\n",
       "      <td>1.196501</td>\n",
       "      <td>1.196501</td>\n",
       "      <td>0.0</td>\n",
       "    </tr>\n",
       "    <tr>\n",
       "      <th>2003-12-02</th>\n",
       "      <td>1.196101</td>\n",
       "      <td>1.210903</td>\n",
       "      <td>1.194600</td>\n",
       "      <td>1.208897</td>\n",
       "      <td>1.208897</td>\n",
       "      <td>0.0</td>\n",
       "    </tr>\n",
       "  </tbody>\n",
       "</table>\n",
       "</div>"
      ],
      "text/plain": [
       "                Open      High       Low     Close  Adj Close  Volume\n",
       "Date                                                                 \n",
       "2003-12-01  1.203398  1.204007  1.194401  1.196501   1.196501     0.0\n",
       "2003-12-02  1.196101  1.210903  1.194600  1.208897   1.208897     0.0"
      ]
     },
     "execution_count": 4,
     "metadata": {},
     "output_type": "execute_result"
    }
   ],
   "source": [
    "df.head(2)"
   ]
  },
  {
   "cell_type": "markdown",
   "id": "3b5857d3",
   "metadata": {},
   "source": [
    "We want to keep columns __`Open`__ and __`Close`__ for this analysis."
   ]
  },
  {
   "cell_type": "code",
   "execution_count": 5,
   "id": "3172a3a2",
   "metadata": {},
   "outputs": [],
   "source": [
    "df = df[['Open','Close']]"
   ]
  },
  {
   "cell_type": "markdown",
   "id": "2f45d2aa",
   "metadata": {},
   "source": [
    "Check if there are missing values."
   ]
  },
  {
   "cell_type": "code",
   "execution_count": 6,
   "id": "b491189b",
   "metadata": {},
   "outputs": [
    {
     "data": {
      "text/plain": [
       "Open     49\n",
       "Close    49\n",
       "dtype: int64"
      ]
     },
     "execution_count": 6,
     "metadata": {},
     "output_type": "execute_result"
    }
   ],
   "source": [
    "df.isna().sum()"
   ]
  },
  {
   "cell_type": "markdown",
   "id": "28e2af86",
   "metadata": {},
   "source": [
    "There are several ways of dealing with __erroneous__ or __missing__ values:\n",
    "\n",
    "- __Accept__. If the errors are spikes in data that are not outside the range of possibility, you may choose to accept them, i.e. do nothing;<br><br>\n",
    "- __Reject__. If the errors are outside the range of possibility or values are missing, you can delete the records with missing values. This can be a problem if your dataset is small to start with;<br><br>\n",
    "- __Correct__. If you are able to verify the data at source or re-source the data, you can replace erroneous or missing values. For example, if we had access to the EURUSD exchange rate data from Reuters or Bloomberg, we could use that to fill the gaps;<br><br>\n",
    "- __Replace__ with default values. In case of working with time series, it is common to replace gaps with previous values. Using previous values is preferred here because it doesn't use any forward looking information."
   ]
  },
  {
   "cell_type": "markdown",
   "id": "98ae64d1",
   "metadata": {},
   "source": [
    "Replace missing values with immediately preceding values using the `ffill` (forward fill) paramater. `inplace=True` edits the original dataframe not its copy."
   ]
  },
  {
   "cell_type": "code",
   "execution_count": 7,
   "id": "4fa52ab7",
   "metadata": {},
   "outputs": [],
   "source": [
    "df.fillna(method='ffill',inplace=True)"
   ]
  },
  {
   "cell_type": "markdown",
   "id": "dd4e4f81",
   "metadata": {},
   "source": [
    "If the dataframe contains numerical values, as we expect here, we can analyse data quality using `.describe()`. There appear to be no extreme values in our data:"
   ]
  },
  {
   "cell_type": "code",
   "execution_count": 8,
   "id": "7e3f4143",
   "metadata": {},
   "outputs": [
    {
     "data": {
      "text/html": [
       "<div>\n",
       "<style scoped>\n",
       "    .dataframe tbody tr th:only-of-type {\n",
       "        vertical-align: middle;\n",
       "    }\n",
       "\n",
       "    .dataframe tbody tr th {\n",
       "        vertical-align: top;\n",
       "    }\n",
       "\n",
       "    .dataframe thead th {\n",
       "        text-align: right;\n",
       "    }\n",
       "</style>\n",
       "<table border=\"1\" class=\"dataframe\">\n",
       "  <thead>\n",
       "    <tr style=\"text-align: right;\">\n",
       "      <th></th>\n",
       "      <th>Open</th>\n",
       "      <th>Close</th>\n",
       "    </tr>\n",
       "  </thead>\n",
       "  <tbody>\n",
       "    <tr>\n",
       "      <th>count</th>\n",
       "      <td>4620.000000</td>\n",
       "      <td>4620.000000</td>\n",
       "    </tr>\n",
       "    <tr>\n",
       "      <th>mean</th>\n",
       "      <td>1.258917</td>\n",
       "      <td>1.258877</td>\n",
       "    </tr>\n",
       "    <tr>\n",
       "      <th>std</th>\n",
       "      <td>0.120510</td>\n",
       "      <td>0.120354</td>\n",
       "    </tr>\n",
       "    <tr>\n",
       "      <th>min</th>\n",
       "      <td>1.039393</td>\n",
       "      <td>1.039047</td>\n",
       "    </tr>\n",
       "    <tr>\n",
       "      <th>25%</th>\n",
       "      <td>1.160315</td>\n",
       "      <td>1.160248</td>\n",
       "    </tr>\n",
       "    <tr>\n",
       "      <th>50%</th>\n",
       "      <td>1.253793</td>\n",
       "      <td>1.253832</td>\n",
       "    </tr>\n",
       "    <tr>\n",
       "      <th>75%</th>\n",
       "      <td>1.343414</td>\n",
       "      <td>1.343201</td>\n",
       "    </tr>\n",
       "    <tr>\n",
       "      <th>max</th>\n",
       "      <td>1.598184</td>\n",
       "      <td>1.598798</td>\n",
       "    </tr>\n",
       "  </tbody>\n",
       "</table>\n",
       "</div>"
      ],
      "text/plain": [
       "              Open        Close\n",
       "count  4620.000000  4620.000000\n",
       "mean      1.258917     1.258877\n",
       "std       0.120510     0.120354\n",
       "min       1.039393     1.039047\n",
       "25%       1.160315     1.160248\n",
       "50%       1.253793     1.253832\n",
       "75%       1.343414     1.343201\n",
       "max       1.598184     1.598798"
      ]
     },
     "execution_count": 8,
     "metadata": {},
     "output_type": "execute_result"
    }
   ],
   "source": [
    "df.describe()"
   ]
  },
  {
   "cell_type": "markdown",
   "id": "6fffe2ce",
   "metadata": {},
   "source": [
    "If you are working with a relatively small amount of data, then it is also useful to visualise the data. __Line charts__ are the most useful for visualising __time series__. For other types of charts please take a look at <a href=\"https://www.data-to-viz.com/\">From Data to Viz</a>"
   ]
  },
  {
   "cell_type": "code",
   "execution_count": 9,
   "id": "ca6cfe72",
   "metadata": {},
   "outputs": [
    {
     "data": {
      "text/plain": [
       "<AxesSubplot:xlabel='Date'>"
      ]
     },
     "execution_count": 9,
     "metadata": {},
     "output_type": "execute_result"
    },
    {
     "data": {
      "image/png": "[encoded data removed]",
      "text/plain": [
       "<Figure size 708.661x354.331 with 1 Axes>"
      ]
     },
     "metadata": {
      "needs_background": "light"
     },
     "output_type": "display_data"
    }
   ],
   "source": [
    "df[['Open','Close']].plot(color=['#ff5050','#002e72'],lw=1)"
   ]
  },
  {
   "cell_type": "markdown",
   "id": "a95a23ab",
   "metadata": {},
   "source": [
    "## Create Trading Signals"
   ]
  },
  {
   "cell_type": "markdown",
   "id": "d68e2a03",
   "metadata": {},
   "source": [
    "### Parameters"
   ]
  },
  {
   "cell_type": "code",
   "execution_count": 10,
   "id": "8f37a2ec",
   "metadata": {},
   "outputs": [],
   "source": [
    "ma = 200 # moving average length in days\n",
    "tcost = 0.015/100 # transaction cost from mid in percent. i.e. 0.015/100 means 0.015% or 1.5bp."
   ]
  },
  {
   "cell_type": "markdown",
   "id": "b5571fbc",
   "metadata": {},
   "source": [
    "### Create Returns"
   ]
  },
  {
   "cell_type": "markdown",
   "id": "9014a157",
   "metadata": {},
   "source": [
    "Create function to define moving average crossover signal:"
   ]
  },
  {
   "cell_type": "code",
   "execution_count": 11,
   "id": "358223e3",
   "metadata": {},
   "outputs": [],
   "source": [
    "def signal(spot,mavg):\n",
    "    if spot > mavg:\n",
    "        s = 1\n",
    "    elif spot < mavg:\n",
    "        s = -1\n",
    "    else:\n",
    "        s = 0\n",
    "    return s"
   ]
  },
  {
   "cell_type": "markdown",
   "id": "722ed7f6",
   "metadata": {},
   "source": [
    "Define whether you want to generate the signal based on `Open` or `Close`. Generate rolling mean of signal source and apply `signal` function to each row of the dataframe (there is <a href=\"https://towardsdatascience.com/apply-function-to-pandas-dataframe-rows-76df74165ee4\">more than one way</a> of doing this).\n",
    "\n",
    "The signal is a quantity of -1 (short EUR and long USD), 1 (long EUR and short USD) or 0 (no position). Using a 200-day moving average cross-over, the signal on 13-Aug-2021 is short EUR because `Open` value of 1.173571 is below the `Mean` of 1.201333, i.e. EUR is trending lower."
   ]
  },
  {
   "cell_type": "code",
   "execution_count": 13,
   "id": "6dfdd482",
   "metadata": {},
   "outputs": [
    {
     "data": {
      "text/html": [
       "<div>\n",
       "<style scoped>\n",
       "    .dataframe tbody tr th:only-of-type {\n",
       "        vertical-align: middle;\n",
       "    }\n",
       "\n",
       "    .dataframe tbody tr th {\n",
       "        vertical-align: top;\n",
       "    }\n",
       "\n",
       "    .dataframe thead th {\n",
       "        text-align: right;\n",
       "    }\n",
       "</style>\n",
       "<table border=\"1\" class=\"dataframe\">\n",
       "  <thead>\n",
       "    <tr style=\"text-align: right;\">\n",
       "      <th></th>\n",
       "      <th>Open</th>\n",
       "      <th>Close</th>\n",
       "      <th>Mean</th>\n",
       "      <th>Signal</th>\n",
       "    </tr>\n",
       "    <tr>\n",
       "      <th>Date</th>\n",
       "      <th></th>\n",
       "      <th></th>\n",
       "      <th></th>\n",
       "      <th></th>\n",
       "    </tr>\n",
       "  </thead>\n",
       "  <tbody>\n",
       "    <tr>\n",
       "      <th>2021-08-09</th>\n",
       "      <td>1.175088</td>\n",
       "      <td>1.174950</td>\n",
       "      <td>1.201341</td>\n",
       "      <td>-1</td>\n",
       "    </tr>\n",
       "    <tr>\n",
       "      <th>2021-08-10</th>\n",
       "      <td>1.173900</td>\n",
       "      <td>1.173847</td>\n",
       "      <td>1.201389</td>\n",
       "      <td>-1</td>\n",
       "    </tr>\n",
       "    <tr>\n",
       "      <th>2021-08-11</th>\n",
       "      <td>1.171976</td>\n",
       "      <td>1.172333</td>\n",
       "      <td>1.201366</td>\n",
       "      <td>-1</td>\n",
       "    </tr>\n",
       "    <tr>\n",
       "      <th>2021-08-12</th>\n",
       "      <td>1.174205</td>\n",
       "      <td>1.174190</td>\n",
       "      <td>1.201372</td>\n",
       "      <td>-1</td>\n",
       "    </tr>\n",
       "    <tr>\n",
       "      <th>2021-08-13</th>\n",
       "      <td>1.173571</td>\n",
       "      <td>1.180359</td>\n",
       "      <td>1.201333</td>\n",
       "      <td>-1</td>\n",
       "    </tr>\n",
       "  </tbody>\n",
       "</table>\n",
       "</div>"
      ],
      "text/plain": [
       "                Open     Close      Mean  Signal\n",
       "Date                                            \n",
       "2021-08-09  1.175088  1.174950  1.201341      -1\n",
       "2021-08-10  1.173900  1.173847  1.201389      -1\n",
       "2021-08-11  1.171976  1.172333  1.201366      -1\n",
       "2021-08-12  1.174205  1.174190  1.201372      -1\n",
       "2021-08-13  1.173571  1.180359  1.201333      -1"
      ]
     },
     "execution_count": 13,
     "metadata": {},
     "output_type": "execute_result"
    }
   ],
   "source": [
    "s = 'Open'\n",
    "df['Mean'] = df[s].rolling(ma).mean()\n",
    "df['Signal'] = df.apply(lambda row: signal(row[s], row['Mean']), axis=1)\n",
    "df.tail(5)"
   ]
  },
  {
   "cell_type": "markdown",
   "id": "51abc7a5",
   "metadata": {},
   "source": [
    "Calculate __simulated past spot return__ of the strategy by multiplying T-1 `Signal` and `pct_change()` of `Close` from T-1 to T and subtract costs. Costs are charged on the notional amount you need to trade to change the signal, i.e if the signal switches from -1 to 1, you need to trade 2x notional amount of the strategy, hence the absolute difference. Add return to new column `Return`."
   ]
  },
  {
   "cell_type": "code",
   "execution_count": 14,
   "id": "578723b1",
   "metadata": {},
   "outputs": [
    {
     "data": {
      "text/html": [
       "<div>\n",
       "<style scoped>\n",
       "    .dataframe tbody tr th:only-of-type {\n",
       "        vertical-align: middle;\n",
       "    }\n",
       "\n",
       "    .dataframe tbody tr th {\n",
       "        vertical-align: top;\n",
       "    }\n",
       "\n",
       "    .dataframe thead th {\n",
       "        text-align: right;\n",
       "    }\n",
       "</style>\n",
       "<table border=\"1\" class=\"dataframe\">\n",
       "  <thead>\n",
       "    <tr style=\"text-align: right;\">\n",
       "      <th></th>\n",
       "      <th>Open</th>\n",
       "      <th>Close</th>\n",
       "      <th>Mean</th>\n",
       "      <th>Signal</th>\n",
       "      <th>Return</th>\n",
       "    </tr>\n",
       "    <tr>\n",
       "      <th>Date</th>\n",
       "      <th></th>\n",
       "      <th></th>\n",
       "      <th></th>\n",
       "      <th></th>\n",
       "      <th></th>\n",
       "    </tr>\n",
       "  </thead>\n",
       "  <tbody>\n",
       "    <tr>\n",
       "      <th>2021-08-09</th>\n",
       "      <td>1.175088</td>\n",
       "      <td>1.174950</td>\n",
       "      <td>1.201341</td>\n",
       "      <td>-1</td>\n",
       "      <td>0.007285</td>\n",
       "    </tr>\n",
       "    <tr>\n",
       "      <th>2021-08-10</th>\n",
       "      <td>1.173900</td>\n",
       "      <td>1.173847</td>\n",
       "      <td>1.201389</td>\n",
       "      <td>-1</td>\n",
       "      <td>0.000939</td>\n",
       "    </tr>\n",
       "    <tr>\n",
       "      <th>2021-08-11</th>\n",
       "      <td>1.171976</td>\n",
       "      <td>1.172333</td>\n",
       "      <td>1.201366</td>\n",
       "      <td>-1</td>\n",
       "      <td>0.001290</td>\n",
       "    </tr>\n",
       "    <tr>\n",
       "      <th>2021-08-12</th>\n",
       "      <td>1.174205</td>\n",
       "      <td>1.174190</td>\n",
       "      <td>1.201372</td>\n",
       "      <td>-1</td>\n",
       "      <td>-0.001584</td>\n",
       "    </tr>\n",
       "    <tr>\n",
       "      <th>2021-08-13</th>\n",
       "      <td>1.173571</td>\n",
       "      <td>1.180359</td>\n",
       "      <td>1.201333</td>\n",
       "      <td>-1</td>\n",
       "      <td>-0.005254</td>\n",
       "    </tr>\n",
       "  </tbody>\n",
       "</table>\n",
       "</div>"
      ],
      "text/plain": [
       "                Open     Close      Mean  Signal    Return\n",
       "Date                                                      \n",
       "2021-08-09  1.175088  1.174950  1.201341      -1  0.007285\n",
       "2021-08-10  1.173900  1.173847  1.201389      -1  0.000939\n",
       "2021-08-11  1.171976  1.172333  1.201366      -1  0.001290\n",
       "2021-08-12  1.174205  1.174190  1.201372      -1 -0.001584\n",
       "2021-08-13  1.173571  1.180359  1.201333      -1 -0.005254"
      ]
     },
     "execution_count": 14,
     "metadata": {},
     "output_type": "execute_result"
    }
   ],
   "source": [
    "df['Return'] = df['Signal'].shift(1) * df['Close'].pct_change() - abs(df['Signal'].diff()) * tcost\n",
    "df.tail(5)"
   ]
  },
  {
   "cell_type": "markdown",
   "id": "2a928fd1",
   "metadata": {},
   "source": [
    "### Analyse Returns"
   ]
  },
  {
   "cell_type": "markdown",
   "id": "c652e948",
   "metadata": {},
   "source": [
    "Plot <font color='red'>cumulative strategy return</font>."
   ]
  },
  {
   "cell_type": "code",
   "execution_count": 15,
   "id": "0eaaa0cf",
   "metadata": {},
   "outputs": [
    {
     "data": {
      "image/png": "[encoded data removed]",
      "text/plain": [
       "<Figure size 708.661x354.331 with 1 Axes>"
      ]
     },
     "metadata": {
      "needs_background": "light"
     },
     "output_type": "display_data"
    }
   ],
   "source": [
    "ax = df['Return'].cumsum().plot(color=['#002e72'],lw=1,title='Cumulative Simulated Past Spot Return, %')\n",
    "plt.xlabel(None)\n",
    "ax.yaxis.set_major_formatter(PercentFormatter(xmax=1,decimals=0))"
   ]
  },
  {
   "cell_type": "markdown",
   "id": "3bfa8a71",
   "metadata": {},
   "source": [
    "Add __rolling drawdown__ to the dataframe. A drawdown is the return an investor would have subsequently experienced by investing in the strategy at the previous high watermark in the cumulative return.\n",
    "\n",
    "This is calculated as the difference between the cumulative return and maximum cumulative return observed to-date. Because our cumulative return is a sum of daily returns without reinvestment (i.e. not a compounded return index), we take a linear rather than percent difference."
   ]
  },
  {
   "cell_type": "code",
   "execution_count": 16,
   "id": "a8f0c18e",
   "metadata": {},
   "outputs": [],
   "source": [
    "df['Drawdown'] = df['Return'].cumsum() - df['Return'].cumsum().expanding(1).max()"
   ]
  },
  {
   "cell_type": "markdown",
   "id": "3c0dd8dd",
   "metadata": {},
   "source": [
    "Plot <font color='red'>rolling drawdown</font>."
   ]
  },
  {
   "cell_type": "code",
   "execution_count": 17,
   "id": "85614496",
   "metadata": {},
   "outputs": [
    {
     "data": {
      "image/png": "[encoded data removed]",
      "text/plain": [
       "<Figure size 708.661x354.331 with 1 Axes>"
      ]
     },
     "metadata": {
      "needs_background": "light"
     },
     "output_type": "display_data"
    }
   ],
   "source": [
    "ax = df['Drawdown'].plot(color=['#002e72'],lw=1,title='Rolling Drawdown, %')\n",
    "plt.xlabel(None)\n",
    "ax.yaxis.set_major_formatter(PercentFormatter(xmax=1,decimals=0))"
   ]
  },
  {
   "cell_type": "markdown",
   "id": "f9ff241d",
   "metadata": {},
   "source": [
    "Calculate <font color='red'>return statistics</font>.\n",
    "\n",
    "Because our returns are zero before the moving average and the signal can be calculated, we want to exclude them from the return calculation to avoid skewing the result."
   ]
  },
  {
   "cell_type": "code",
   "execution_count": 18,
   "id": "e69ca0c8",
   "metadata": {},
   "outputs": [],
   "source": [
    "def return_stats(s):\n",
    "    \n",
    "    a_ret = 260 * df[df.index >= df['Mean'].first_valid_index()][s].mean()\n",
    "    a_vol = np.sqrt(260) * df[df.index >= df['Mean'].first_valid_index()][s].std()\n",
    "    inf_ratio = a_ret / a_vol\n",
    "    max_dd = df['Drawdown'].min()\n",
    "    \n",
    "    print ('Annual Return: %s' % '{:.2%}'.format(a_ret))\n",
    "    print ('Annual StDev: %s' % '{:.2%}'.format(a_vol))\n",
    "    print ('Information Ratio: %s' % '{:.2f}'.format(inf_ratio) if inf_ratio >=0 else 'Information Ratio: n/a')\n",
    "    print ('Max Drawdown: %s' % '{:.2%}'.format(max_dd))"
   ]
  },
  {
   "cell_type": "code",
   "execution_count": 19,
   "id": "3b4c6bdf",
   "metadata": {},
   "outputs": [
    {
     "name": "stdout",
     "output_type": "stream",
     "text": [
      "Annual Return: 1.29%\n",
      "Annual StDev: 11.96%\n",
      "Information Ratio: 0.11\n",
      "Max Drawdown: -43.99%\n"
     ]
    }
   ],
   "source": [
    "return_stats('Return')"
   ]
  },
  {
   "cell_type": "markdown",
   "id": "a44f25a9",
   "metadata": {},
   "source": [
    "You want a strategy with a __positive information ratio__, ideally __around 0.5 or higher__. This means that for each unit of risk, the strategy has generated 0.5 units of return. The maximum drawdown should ideally not be more than a few multiples of the annual return.\n",
    "\n",
    "It is common practice not to show information ratios for strategies that have lost money. Our aim is to analyse how consistently the strategy has generated profits, not losses!"
   ]
  },
  {
   "cell_type": "markdown",
   "id": "0a452ef0",
   "metadata": {},
   "source": [
    "## Next Steps"
   ]
  },
  {
   "cell_type": "markdown",
   "id": "5aaf7a29",
   "metadata": {},
   "source": [
    "The previous exercise shows that creating a profitable trend following trading strategy in EURUSD is a challenge. In order to practice your Python skills, please try the following:\n",
    "\n",
    "1) Play around with the __parameters__ and observe how they change performance.\n",
    " - We generated signals based on `Open`, but traded on `Close` to allow time for signal generation. How do the results change if you allow for no slippage and generate signals also on `Close`?\n",
    " - How do the results change if you change the `ma` and `tcost` parameters? Have shorter moving average lengths produced better or worse historical simulations? Are the simulation results sensitive to the level of assumed transaction costs?\n",
    " - Write a data mining loop that cycles through a range of `ma` parameters and records performance statistics for each parameter. What do you observe?\n",
    " \n",
    "2) Change the `signal` function to trade __mean reversion__ instead of trend. How do the results change?\n",
    "\n",
    "3) Consider sourcing more exchange rate data and implementing the strategy in a __portfolio__ of currency pairs. Do additional currency pairs bring diversification and how do performance statistics on the portfolio level compare to currency level?"
   ]
  },
  {
   "cell_type": "markdown",
   "id": "ddb2036c",
   "metadata": {},
   "source": [
    "I hope you have enjoyed this simple example of how to create a currency trading strategy. For the next __advanced__ level challenges consider implementing the trading strategy in EURUSD forwards or futures instead of spot. A real-life implementation of the signal would also incur the cost or benefit of the interest rate differential between EUR and USD.\n",
    "\n",
    "If you have access to intraday data, consider generating the signal and notional trading at different times of day, allowing for a realistic gap between observing the signal and implementing it. Fixing data published by Bloomberg (BFIX) or Refinitiv (WMR) can be useful for that.\n",
    "\n",
    "If you have access to transaction cost and execution slippage data, consider using variable transaction costs for your applicable strategy notional amount. However, this data is quite hard to come by and you may have to wait until your first job to implement that!"
   ]
  },
  {
   "cell_type": "code",
   "execution_count": null,
   "id": "17833138",
   "metadata": {},
   "outputs": [],
   "source": []
  }
 ],
 "metadata": {
  "kernelspec": {
   "display_name": "Python 3",
   "language": "python",
   "name": "python3"
  },
  "language_info": {
   "codemirror_mode": {
    "name": "ipython",
    "version": 3
   },
   "file_extension": ".py",
   "mimetype": "text/x-python",
   "name": "python",
   "nbconvert_exporter": "python",
   "pygments_lexer": "ipython3",
   "version": "3.8.8"
  }
 },
 "nbformat": 4,
 "nbformat_minor": 5
}
