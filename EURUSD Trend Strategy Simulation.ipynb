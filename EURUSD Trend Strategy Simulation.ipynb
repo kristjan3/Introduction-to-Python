{
 "cells": [
  {
   "cell_type": "markdown",
   "id": "e95a1f2d",
   "metadata": {},
   "source": [
    "# Trend Strategy for the EURUSD Exchange Rate"
   ]
  },
  {
   "cell_type": "markdown",
   "id": "668ab02e",
   "metadata": {},
   "source": [
    "## Imports"
   ]
  },
  {
   "cell_type": "markdown",
   "id": "7eeffc55",
   "metadata": {},
   "source": [
    "We need to import some open source libraries for this analysis:"
   ]
  },
  {
   "cell_type": "code",
   "execution_count": 1,
   "id": "1e556655",
   "metadata": {},
   "outputs": [],
   "source": [
    "import pandas as pd  # for working with dataframes\n",
    "import matplotlib.pyplot as plt # for visualisations"
   ]
  },
  {
   "cell_type": "code",
   "execution_count": null,
   "id": "23887a83",
   "metadata": {},
   "outputs": [],
   "source": [
    "sns.set_style('darkgrid') # \n"
   ]
  }
 ],
 "metadata": {
  "kernelspec": {
   "display_name": "Python 3",
   "language": "python",
   "name": "python3"
  },
  "language_info": {
   "codemirror_mode": {
    "name": "ipython",
    "version": 3
   },
   "file_extension": ".py",
   "mimetype": "text/x-python",
   "name": "python",
   "nbconvert_exporter": "python",
   "pygments_lexer": "ipython3",
   "version": "3.8.8"
  }
 },
 "nbformat": 4,
 "nbformat_minor": 5
}
